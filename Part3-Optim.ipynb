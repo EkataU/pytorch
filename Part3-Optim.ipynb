{
 "cells": [
  {
   "cell_type": "code",
   "execution_count": 1,
   "id": "2d3969b8",
   "metadata": {},
   "outputs": [],
   "source": [
    "import os\n",
    "import numpy as np\n",
    "import torch\n",
    "import matplotlib.pyplot as plt\n",
    "from torch.utils.data import Dataset, DataLoader\n",
    "\n",
    "from misc import *\n",
    "\n",
    "import torch.nn as nn\n",
    "import torch.optim as optim\n",
    "\n",
    "from tqdm.auto import tqdm, trange\n",
    "\n",
    "device = torch.device('cuda:0')\n",
    "\n",
    "torch.manual_seed(222)\n",
    "np.random.seed(333)"
   ]
  },
  {
   "cell_type": "code",
   "execution_count": 2,
   "id": "30d1800e",
   "metadata": {},
   "outputs": [
    {
     "data": {
      "image/png": "[encoded data removed]",
      "text/plain": [
       "<Figure size 600x400 with 1 Axes>"
      ]
     },
     "metadata": {},
     "output_type": "display_data"
    }
   ],
   "source": [
    "def sinuous(x):\n",
    "    y = np.sin(8*x+0.5*np.pi)\n",
    "    return y\n",
    "    \n",
    "Ntr = 20\n",
    "noise = 5e-2\n",
    "    \n",
    "Xtr = np.random.uniform(-1,1, size=[Ntr,1])\n",
    "ytr = sinuous(Xtr)\n",
    "epsi = noise*np.random.normal(size=ytr.shape)\n",
    "\n",
    "ytr = ytr+epsi\n",
    "\n",
    "Xte = np.linspace(-1,1,100).reshape([-1,1])\n",
    "yte = sinuous(Xte)\n",
    "\n",
    "fig = plt.figure(figsize=(6,4), dpi= 100, facecolor='w', edgecolor='k')\n",
    "\n",
    "plt.plot(Xte.squeeze(), yte.squeeze(), color='b', label='ground')\n",
    "plt.scatter(Xtr.squeeze(), ytr.squeeze(), color='r', label='train samples')\n",
    "plt.legend()\n",
    "\n",
    "dataset_train = SimpleDataset(Xtr, ytr)\n",
    "dataset_test = SimpleDataset(Xte, yte)\n"
   ]
  },
  {
   "cell_type": "code",
   "execution_count": 3,
   "id": "c08d1a72",
   "metadata": {},
   "outputs": [],
   "source": [
    "class Net(nn.Module):\n",
    "    def __init__(self, config, act=nn.Tanh()):\n",
    "        \n",
    "        super(Net, self).__init__()\n",
    " \n",
    "        layers_list = []\n",
    "\n",
    "        for l in range(len(config)-2):\n",
    "            in_dim = config[l]\n",
    "            out_dim = config[l+1]\n",
    "            \n",
    "            layers_list.append(nn.Linear(in_features=in_dim, out_features=out_dim))\n",
    "            layers_list.append(nn.Tanh())\n",
    "            \n",
    "        #\n",
    "        \n",
    "        # last layer\n",
    "        layers_list.append(nn.Linear(in_features=config[-2], out_features=config[-1]))\n",
    "        \n",
    "        self.net = nn.ModuleList(layers_list)\n",
    "        \n",
    "    def forward(self, X):\n",
    "        h = X\n",
    "        for layer in self.net:\n",
    "            h = layer(h)\n",
    "        #\n",
    "        return h\n",
    "\n"
   ]
  },
  {
   "cell_type": "code",
   "execution_count": null,
   "id": "682acd6e",
   "metadata": {},
   "outputs": [
    {
     "data": {
      "application/vnd.jupyter.widget-view+json": {
       "model_id": "6ecc3d90563d47b0a2c153a4bd32881b",
       "version_major": 2,
       "version_minor": 0
      },
      "text/plain": [
       "  0%|          | 0/5001 [00:00<?, ?it/s]"
      ]
     },
     "metadata": {},
     "output_type": "display_data"
    },
    {
     "name": "stdout",
     "output_type": "stream",
     "text": [
      "\u001b[31mEpoch #0\t: \u001b[0mtrain_rmse=0.74400, test_rmse=1.09146\n",
      "\u001b[31mEpoch #500\t: \u001b[0mtrain_rmse=0.39146, test_rmse=0.60000\n",
      "\u001b[31mEpoch #1000\t: \u001b[0mtrain_rmse=0.36566, test_rmse=0.45971\n",
      "\u001b[31mEpoch #1500\t: \u001b[0mtrain_rmse=0.22761, test_rmse=0.22392\n",
      "\u001b[31mEpoch #2000\t: \u001b[0mtrain_rmse=0.22368, test_rmse=0.22710\n",
      "\u001b[31mEpoch #2500\t: \u001b[0mtrain_rmse=0.21708, test_rmse=0.23279\n",
      "\u001b[31mEpoch #3000\t: \u001b[0mtrain_rmse=0.15777, test_rmse=0.22183\n",
      "\u001b[31mEpoch #3500\t: \u001b[0mtrain_rmse=0.12251, test_rmse=0.25697\n",
      "\u001b[31mEpoch #4000\t: \u001b[0mtrain_rmse=0.06455, test_rmse=0.18737\n",
      "\u001b[31mEpoch #4500\t: \u001b[0mtrain_rmse=0.05183, test_rmse=0.18823\n"
     ]
    }
   ],
   "source": [
    "epochs=5000\n",
    "lr=0.18\n",
    "\n",
    "train_loader = DataLoader(dataset_train, batch_size=len(dataset_train), shuffle=True)\n",
    "test_loader = DataLoader(dataset_test, batch_size=len(dataset_test), shuffle=False)\n",
    "\n",
    "config = [1,64,64,1]\n",
    "model = Net(config).to(device)\n",
    "\n",
    "optimizer = optim.SGD(model.parameters(), lr=lr)\n",
    "scheduler = optim.lr_scheduler.StepLR(optimizer, step_size=100, gamma=0.99, verbose=False)\n",
    "\n",
    "hist_rmse_tr = []\n",
    "hist_rmse_te = []\n",
    "hist_pred_te = []\n",
    "\n",
    "for ie in tqdm(range(epochs+1)):\n",
    "    \n",
    "    Xtr, ytr = next(iter(train_loader))\n",
    "    Xte, yte = next(iter(test_loader))\n",
    "    \n",
    "    Xtr, ytr, Xte, yte = \\\n",
    "        Xtr.float().to(device), ytr.float().to(device), Xte.float().to(device), yte.float().to(device)\n",
    "    \n",
    "    pred = model(Xtr)\n",
    "    loss = torch.mean(torch.square(pred-ytr))\n",
    "    \n",
    "\n",
    "    # step 1: clear the grads\n",
    "    optimizer.zero_grad()\n",
    "    # step 2: backward the computational graph\n",
    "    loss.backward()\n",
    "    # step 3: take the gradient step\n",
    "    optimizer.step()\n",
    "    \n",
    "    scheduler.step()\n",
    "    \n",
    "    if ie%500 == 0:\n",
    "        cprint('r', 'Epoch #{}\\t: '.format(ie), end='')\n",
    "        with torch.no_grad():\n",
    "            rmse_tr = torch.sqrt(torch.mean(torch.square(ytr-pred)))\n",
    "            rmse_te = torch.sqrt(torch.mean(torch.square(yte-model(Xte))))\n",
    "            print('train_rmse={:.5f}, test_rmse={:.5f}'.format(rmse_tr.item(), rmse_te.item()))\n",
    "            \n",
    "            hist_rmse_tr.append(rmse_tr.item())\n",
    "            hist_rmse_te.append(rmse_te.item())\n",
    "            hist_pred_te.append(model(Xte).data.cpu().numpy())\n",
    "        #\n",
    "    #\n"
   ]
  },
  {
   "cell_type": "code",
   "execution_count": null,
   "id": "2b881b8c",
   "metadata": {},
   "outputs": [],
   "source": [
    "lr=0.1\n",
    "\n",
    "train_loader = DataLoader(dataset_train, batch_size=len(dataset_train), shuffle=True)\n",
    "test_loader = DataLoader(dataset_test, batch_size=len(dataset_test), shuffle=False)\n",
    "\n",
    "config = [1,64,64,1]\n",
    "model = Net(config).to(device)\n",
    "\n",
    "optimizer = torch.optim.LBFGS(model.parameters(), lr=lr, max_iter=500)\n",
    "\n",
    "Xtr, ytr = next(iter(train_loader))\n",
    "Xte, yte = next(iter(test_loader))\n",
    "\n",
    "Xtr, ytr, Xte, yte = \\\n",
    "    Xtr.float().to(device), ytr.float().to(device), Xte.float().to(device), yte.float().to(device)\n",
    "\n",
    "def closure():\n",
    "    optimizer.zero_grad()\n",
    "    pred = model(Xtr)\n",
    "    loss = torch.mean(torch.square(pred-ytr))\n",
    "    loss.backward(retain_graph=True)\n",
    "    #print('loss:%g'%loss.item())\n",
    "    return loss\n",
    "#\n",
    "\n",
    "with torch.no_grad():\n",
    "    pred_before = model(Xte)\n",
    "\n",
    "optimizer.step(closure)\n",
    "\n",
    "with torch.no_grad():\n",
    "    rmse_tr = torch.sqrt(torch.mean(torch.square(ytr-model(Xtr))))\n",
    "    rmse_te = torch.sqrt(torch.mean(torch.square(yte-model(Xte))))\n",
    "    print('train_rmse={:.5f}, test_rmse={:.5f}'.format(rmse_tr.item(), rmse_te.item()))\n",
    "#\n",
    "\n",
    "with torch.no_grad():\n",
    "    pred_after = model(Xte)\n",
    "\n",
    "fig = plt.figure(figsize=(6,4), dpi= 100, facecolor='w', edgecolor='k')\n",
    "\n",
    "plt.plot(Xte.cpu().squeeze(), yte.cpu().squeeze(), color='b', label='ground')\n",
    "plt.scatter(Xtr.cpu().squeeze(), ytr.cpu().squeeze(), color='r', label='train samples')\n",
    "plt.plot(Xte.cpu().squeeze(), pred_before.cpu().squeeze(), color='dimgray', label='model init')\n",
    "plt.plot(Xte.cpu().squeeze(), pred_after.cpu().squeeze(), color='green', label='model trained')\n",
    "plt.legend()"
   ]
  },
  {
   "cell_type": "code",
   "execution_count": null,
   "id": "90b5f611",
   "metadata": {},
   "outputs": [],
   "source": []
  }
 ],
 "metadata": {
  "kernelspec": {
   "display_name": "Python 3 (ipykernel)",
   "language": "python",
   "name": "python3"
  },
  "language_info": {
   "codemirror_mode": {
    "name": "ipython",
    "version": 3
   },
   "file_extension": ".py",
   "mimetype": "text/x-python",
   "name": "python",
   "nbconvert_exporter": "python",
   "pygments_lexer": "ipython3",
   "version": "3.7.11"
  }
 },
 "nbformat": 4,
 "nbformat_minor": 5
}
