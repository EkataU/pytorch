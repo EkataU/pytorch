{
 "cells": [
  {
   "cell_type": "code",
   "execution_count": 1,
   "id": "5ff15ebe",
   "metadata": {},
   "outputs": [],
   "source": [
    "import torch\n",
    "import numpy as np\n",
    "import os\n",
    "\n",
    "from misc import *\n",
    "\n",
    "\n",
    "os.environ[\"CUDA_VISIBLE_DEVICES\"]=\"0,1\""
   ]
  },
  {
   "cell_type": "markdown",
   "id": "cd798849",
   "metadata": {},
   "source": [
    "# Check System Devices"
   ]
  },
  {
   "cell_type": "code",
   "execution_count": 2,
   "id": "cbd8a0f9",
   "metadata": {},
   "outputs": [
    {
     "name": "stdout",
     "output_type": "stream",
     "text": [
      "Using device: cuda\n",
      "NVIDIA GeForce RTX 3090\n"
     ]
    }
   ],
   "source": [
    "device = torch.device('cuda' if torch.cuda.is_available() else 'cpu')\n",
    "print('Using device:', device)\n",
    "\n",
    "if torch.cuda.is_available():\n",
    "    device_count = torch.cuda.device_count()\n",
    "    for d in range(device_count):\n",
    "        device_name = torch.cuda.get_device_name(d)\n",
    "        print(device_name)\n",
    "    #\n",
    "#\n",
    "\n",
    "device = torch.device('cuda:0')"
   ]
  },
  {
   "cell_type": "markdown",
   "id": "26b4196e",
   "metadata": {},
   "source": [
    "# Autograd Example 1\n",
    "## - tensor.backward()"
   ]
  },
  {
   "cell_type": "code",
   "execution_count": 3,
   "id": "0bf95871",
   "metadata": {},
   "outputs": [
    {
     "name": "stdout",
     "output_type": "stream",
     "text": [
      "True True True\n",
      "tensor(12., device='cuda:0') 12.0\n",
      "tensor(9., device='cuda:0') 9.0\n",
      "tensor(0.5000, device='cuda:0') 0.5\n"
     ]
    }
   ],
   "source": [
    "#Create tensors\n",
    "x = torch.tensor(3., requires_grad=True, device=device)\n",
    "w = torch.tensor(2., requires_grad=True, device=device)\n",
    "b = torch.tensor(1., requires_grad=True, device=device)\n",
    "\n",
    "print(x.is_leaf, w.is_leaf, b.is_leaf)\n",
    "\n",
    "# x = torch.tensor(1., requires_grad=True).to(device)\n",
    "# w = torch.tensor(2., requires_grad=True).to(device)\n",
    "# b = torch.tensor(3., requires_grad=True).to(device)\n",
    "\n",
    "# print(x.is_leaf, w.is_leaf, b.is_leaf)\n",
    "\n",
    "# Build a computational graph\n",
    "y = w*x**2 + torch.sqrt(b)         # y = w*x^2 + sqrt(b)\n",
    "\n",
    "# Compute gradients\n",
    "y.backward()\n",
    "\n",
    "# Print out the gradients\n",
    "print(x.grad, (2*w*x).item())                            # dy/dx = 2*w*x\n",
    "print(w.grad, (x**2).item())                             # dy/dw = x^2\n",
    "print(b.grad, (0.5/torch.sqrt(b)).data.cpu().numpy())    # dy/db = (1/2)*(1/sqrt(b))\n"
   ]
  },
  {
   "cell_type": "markdown",
   "id": "0db0b257",
   "metadata": {},
   "source": [
    "# Autograd Example 2\n",
    "## - torch.autograd.grad() and high-order gradients"
   ]
  },
  {
   "cell_type": "code",
   "execution_count": 4,
   "id": "f6c6c773",
   "metadata": {},
   "outputs": [
    {
     "name": "stdout",
     "output_type": "stream",
     "text": [
      "(tensor(12., device='cuda:0', grad_fn=<MulBackward0>),) 12.0\n",
      "(tensor(4., device='cuda:0'),) 4.0\n"
     ]
    }
   ],
   "source": [
    "#Create tensors\n",
    "x = torch.tensor(3., requires_grad=True, device=device)\n",
    "w = torch.tensor(2., requires_grad=True, device=device)\n",
    "b = torch.tensor(1., requires_grad=True, device=device)\n",
    "\n",
    "# Build a computational graph\n",
    "y = w*x**2 + torch.sqrt(b)         # y = w*x^2 + b\n",
    "\n",
    "# Use autograd to compute the first-order gradient dy/dx\n",
    "grad_x = torch.autograd.grad(y, x, create_graph=True)    # create_graph\n",
    "print(grad_x, (2*w*x).item())\n",
    "\n",
    "# Use autograd to compute the second-order gradient d^2y/dx^2\n",
    "grad_xx = torch.autograd.grad(grad_x, x)\n",
    "print(grad_xx, 2*w.item())\n",
    "\n"
   ]
  },
  {
   "cell_type": "markdown",
   "id": "ee04fe28",
   "metadata": {},
   "source": [
    "# Autograd Example 3\n",
    "## - grad of loss fn: A logistic regression example\n",
    "## - (https://pytorch.org/docs/stable/nn.html#loss-functions)"
   ]
  },
  {
   "cell_type": "code",
   "execution_count": 5,
   "id": "57b00d03",
   "metadata": {},
   "outputs": [
    {
     "name": "stdout",
     "output_type": "stream",
     "text": [
      "tensor([[ 0.1905],\n",
      "        [-0.3739],\n",
      "        [-0.0894],\n",
      "        [ 0.1189],\n",
      "        [-0.0952]], device='cuda:0')\n"
     ]
    }
   ],
   "source": [
    "N = 100  # num of samples\n",
    "d = 5    # design dimensions\n",
    "X = torch.randn(N, d).to(device)   # data to device                     \n",
    "y = torch.empty(N, dtype=torch.long).random_(2).to(device)\n",
    "\n",
    "w = torch.empty(d, 1, requires_grad=True, device=device)\n",
    "w = torch.nn.init.normal_(w)  # initialize the weights\n",
    "\n",
    "yhat = 1/(1+torch.exp(-torch.matmul(X, w)))\n",
    "yhat = yhat.squeeze() # convert to (N,) row vector\n",
    "\n",
    "loss = -torch.mean(y*torch.log(yhat) + (1 - y)* torch.log(1-yhat))\n",
    "loss.backward()\n",
    "print(w.grad)\n",
    "\n"
   ]
  },
  {
   "cell_type": "markdown",
   "id": "6b560f6e",
   "metadata": {},
   "source": [
    "# Input pipline: Dataset and Dataloader\n",
    "## - built-in datasets (https://pytorch.org/vision/stable/datasets.html)"
   ]
  },
  {
   "cell_type": "code",
   "execution_count": 6,
   "id": "dadfe7d2",
   "metadata": {},
   "outputs": [
    {
     "name": "stdout",
     "output_type": "stream",
     "text": [
      "torch.Size([6, 1, 28, 28])\n",
      "tensor([3, 6, 6, 3, 2, 7])\n"
     ]
    },
    {
     "data": {
      "image/png": "[encoded data removed]",
      "text/plain": [
       "<Figure size 800x400 with 6 Axes>"
      ]
     },
     "metadata": {},
     "output_type": "display_data"
    }
   ],
   "source": [
    "import torchvision\n",
    "from torch.utils.data import Dataset, DataLoader\n",
    "\n",
    "from torchvision.utils import make_grid\n",
    "import matplotlib.pyplot as plt\n",
    "\n",
    "train_dataset = torchvision.datasets.MNIST('data/__cache__', train=True, download=True,\n",
    "                     transform=torchvision.transforms.Compose([\n",
    "                       torchvision.transforms.ToTensor(),\n",
    "                       torchvision.transforms.Normalize(\n",
    "                         (0.1307,), (0.3081,))\n",
    "                     ]))\n",
    "\n",
    "batch_size = 6\n",
    "train_loader = DataLoader(train_dataset, batch_size=batch_size, shuffle=True)\n",
    "\n",
    "images, labels = next(iter(train_loader))\n",
    "\n",
    "print(images.shape)\n",
    "print(labels)\n",
    "\n",
    "fig = plt.figure(figsize=(8,4), dpi= 100, facecolor='w', edgecolor='k')\n",
    "for i in range(batch_size):\n",
    "    plt.subplot(2,3,i+1)\n",
    "    plt.tight_layout()\n",
    "    plt.imshow(images[i][0], cmap='gray', interpolation='none')\n",
    "    plt.title(\"Ground Truth: {}\".format(labels[i]))\n",
    "    plt.xticks([])\n",
    "    plt.yticks([])\n"
   ]
  },
  {
   "cell_type": "markdown",
   "id": "f910553b",
   "metadata": {},
   "source": [
    "# Input pipline: Dataset and Dataloader\n",
    "## - custom datasets"
   ]
  },
  {
   "cell_type": "code",
   "execution_count": 7,
   "id": "7e187c1e",
   "metadata": {},
   "outputs": [
    {
     "name": "stdout",
     "output_type": "stream",
     "text": [
      "(872, 4) (872, 1) (500, 4) (500, 1)\n"
     ]
    }
   ],
   "source": [
    "raw_tr = np.loadtxt(os.path.join('data/bank-note', 'train.csv'), delimiter=',')\n",
    "raw_te = np.loadtxt(os.path.join('data/bank-note', 'test.csv'), delimiter=',')\n",
    "\n",
    "Xtr, ytr, Xte, yte = raw_tr[:,:-1], raw_tr[:,-1].reshape([-1,1]), raw_te[:,:-1], raw_te[:,-1].reshape([-1,1])\n",
    "\n",
    "print(Xtr.shape, ytr.shape, Xte.shape, yte.shape)        \n",
    "        "
   ]
  },
  {
   "cell_type": "code",
   "execution_count": 8,
   "id": "2ae86eb9",
   "metadata": {},
   "outputs": [
    {
     "name": "stdout",
     "output_type": "stream",
     "text": [
      "872 500\n",
      "\u001b[31mEpoch 0\u001b[0m\n",
      "batch_0, torch.Size([128, 4]), torch.Size([128, 1])\n",
      "batch_1, torch.Size([128, 4]), torch.Size([128, 1])\n",
      "batch_2, torch.Size([128, 4]), torch.Size([128, 1])\n",
      "batch_3, torch.Size([128, 4]), torch.Size([128, 1])\n",
      "batch_4, torch.Size([128, 4]), torch.Size([128, 1])\n",
      "batch_5, torch.Size([128, 4]), torch.Size([128, 1])\n",
      "batch_6, torch.Size([104, 4]), torch.Size([104, 1])\n",
      "\u001b[31mEpoch 1\u001b[0m\n",
      "batch_0, torch.Size([128, 4]), torch.Size([128, 1])\n",
      "batch_1, torch.Size([128, 4]), torch.Size([128, 1])\n",
      "batch_2, torch.Size([128, 4]), torch.Size([128, 1])\n",
      "batch_3, torch.Size([128, 4]), torch.Size([128, 1])\n",
      "batch_4, torch.Size([128, 4]), torch.Size([128, 1])\n",
      "batch_5, torch.Size([128, 4]), torch.Size([128, 1])\n",
      "batch_6, torch.Size([104, 4]), torch.Size([104, 1])\n"
     ]
    }
   ],
   "source": [
    "class BankNote(Dataset):\n",
    "    def __init__(self, data_path, mode):\n",
    "        \n",
    "        super(BankNote, self).__init__()\n",
    "        \n",
    "        # TODO\n",
    "        # 1. Initialize internal data \n",
    "        \n",
    "        raw_tr = np.loadtxt(os.path.join(data_path, 'train.csv'), delimiter=',')\n",
    "        raw_te = np.loadtxt(os.path.join(data_path, 'test.csv'), delimiter=',')\n",
    "        \n",
    "        Xtr, ytr, Xte, yte = \\\n",
    "            raw_tr[:,:-1], raw_tr[:,-1].reshape([-1,1]), raw_te[:,:-1], raw_te[:,-1].reshape([-1,1])\n",
    "        \n",
    "        if mode == 'train':\n",
    "            self.X, self.y = Xtr, ytr\n",
    "        elif mode == 'test':\n",
    "            self.X, self.y = Xte, yte\n",
    "        else:\n",
    "            raise Exception(\"Error: Invalid mode option!\")\n",
    "        \n",
    "    def __getitem__(self, index):\n",
    "        \n",
    "        # TODO\n",
    "        # 1. Read one data from file (e.g. using numpy.fromfile, PIL.Image.open).\n",
    "        # 2. Preprocess the data (e.g. torchvision.Transform).\n",
    "        # 3. Return a data pair (e.g. image and label).\n",
    "        \n",
    "        return self.X[index,:], self.y[index,:]\n",
    "    \n",
    "    def __len__(self,):\n",
    "        # Return total number of samples.\n",
    "        return self.X.shape[0]\n",
    "    \n",
    "    \n",
    "dataset_train = BankNote('data/bank-note', mode='train')\n",
    "dataset_test = BankNote('data/bank-note', mode='test')\n",
    "\n",
    "print(len(dataset_train), len(dataset_test))\n",
    "\n",
    "train_loader = DataLoader(dataset=dataset_train, batch_size=128, shuffle=True, drop_last=False)\n",
    "\n",
    "epochs=2\n",
    "\n",
    "for ie in range(epochs):\n",
    "    cprint('r', 'Epoch {}'.format(ie))\n",
    "    for batch_idx, (X, y) in enumerate(train_loader):\n",
    "        print('batch_{}, {}, {}'.format(batch_idx, X.shape, y.shape))\n",
    "    #\n",
    "#"
   ]
  },
  {
   "cell_type": "code",
   "execution_count": null,
   "id": "cb99bf52",
   "metadata": {},
   "outputs": [],
   "source": []
  }
 ],
 "metadata": {
  "kernelspec": {
   "display_name": "Python 3 (ipykernel)",
   "language": "python",
   "name": "python3"
  },
  "language_info": {
   "codemirror_mode": {
    "name": "ipython",
    "version": 3
   },
   "file_extension": ".py",
   "mimetype": "text/x-python",
   "name": "python",
   "nbconvert_exporter": "python",
   "pygments_lexer": "ipython3",
   "version": "3.7.11"
  }
 },
 "nbformat": 4,
 "nbformat_minor": 5
}
