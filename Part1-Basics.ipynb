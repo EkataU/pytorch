{
 "cells": [
  {
   "cell_type": "code",
   "execution_count": 1,
   "id": "5ff15ebe",
   "metadata": {},
   "outputs": [],
   "source": [
    "import torch\n",
    "import numpy as np\n",
    "import os\n",
    "import torchvision\n",
    "import torch.nn as nn\n",
    "import numpy as np\n",
    "import torchvision.transforms as transforms\n",
    "\n",
    "os.environ[\"CUDA_VISIBLE_DEVICES\"]=\"0,1\""
   ]
  },
  {
   "cell_type": "markdown",
   "id": "cd798849",
   "metadata": {},
   "source": [
    "# Check System Devices"
   ]
  },
  {
   "cell_type": "code",
   "execution_count": 2,
   "id": "cbd8a0f9",
   "metadata": {},
   "outputs": [
    {
     "name": "stdout",
     "output_type": "stream",
     "text": [
      "Using device: cuda\n",
      "NVIDIA GeForce GTX 1070\n",
      "NVIDIA GeForce GTX 1070\n"
     ]
    }
   ],
   "source": [
    "device = torch.device('cuda' if torch.cuda.is_available() else 'cpu')\n",
    "print('Using device:', device)\n",
    "\n",
    "if torch.cuda.is_available():\n",
    "    device_count = torch.cuda.device_count()\n",
    "    for d in range(device_count):\n",
    "        device_name = torch.cuda.get_device_name(d)\n",
    "        print(device_name)\n",
    "    #\n",
    "#\n",
    "\n",
    "device = torch.device('cuda:0')"
   ]
  },
  {
   "cell_type": "markdown",
   "id": "26b4196e",
   "metadata": {},
   "source": [
    "# Autograd Example 1 \n",
    "## - tensor.backward()"
   ]
  },
  {
   "cell_type": "code",
   "execution_count": 3,
   "id": "0bf95871",
   "metadata": {},
   "outputs": [
    {
     "name": "stdout",
     "output_type": "stream",
     "text": [
      "True True True\n",
      "tensor(12., device='cuda:0') 12.0\n",
      "tensor(9., device='cuda:0') 9.0\n",
      "tensor(0.5000, device='cuda:0') 0.5\n"
     ]
    }
   ],
   "source": [
    "#Create tensors\n",
    "x = torch.tensor(3., requires_grad=True, device=device)\n",
    "w = torch.tensor(2., requires_grad=True, device=device)\n",
    "b = torch.tensor(1., requires_grad=True, device=device)\n",
    "\n",
    "print(x.is_leaf, w.is_leaf, b.is_leaf)\n",
    "\n",
    "# x = torch.tensor(1., requires_grad=True).to(device)\n",
    "# w = torch.tensor(2., requires_grad=True).to(device)\n",
    "# b = torch.tensor(3., requires_grad=True).to(device)\n",
    "\n",
    "# print(x.is_leaf, w.is_leaf, b.is_leaf)\n",
    "\n",
    "# Build a computational graph\n",
    "y = w*x**2 + torch.sqrt(b)         # y = w*x^2 + sqrt(b)\n",
    "\n",
    "# Compute gradients\n",
    "y.backward()\n",
    "\n",
    "# Print out the gradients\n",
    "print(x.grad, (2*w*x).item())                            # dy/dx = 2*w*x\n",
    "print(w.grad, (x**2).item())                             # dy/dw = x^2\n",
    "print(b.grad, (0.5/torch.sqrt(b)).data.cpu().numpy())    # dy/db = (1/2)*(1/sqrt(b))\n"
   ]
  },
  {
   "cell_type": "markdown",
   "id": "0db0b257",
   "metadata": {},
   "source": [
    "# Autograd Example 2: \n",
    "## - torch.autograd.grad() and high-order gradients"
   ]
  },
  {
   "cell_type": "code",
   "execution_count": 4,
   "id": "f6c6c773",
   "metadata": {},
   "outputs": [
    {
     "name": "stdout",
     "output_type": "stream",
     "text": [
      "(tensor(12., device='cuda:0', grad_fn=<MulBackward0>),) 12.0\n",
      "(tensor(4., device='cuda:0'),) 4.0\n"
     ]
    }
   ],
   "source": [
    "#Create tensors\n",
    "x = torch.tensor(3., requires_grad=True, device=device)\n",
    "w = torch.tensor(2., requires_grad=True, device=device)\n",
    "b = torch.tensor(1., requires_grad=True, device=device)\n",
    "\n",
    "# Build a computational graph\n",
    "y = w*x**2 + torch.sqrt(b)         # y = w*x^2 + b\n",
    "\n",
    "# Use autograd to compute the first-order gradient dy/dx\n",
    "grad_x = torch.autograd.grad(y, x, create_graph=True)    # create_graph\n",
    "print(grad_x, (2*w*x).item())\n",
    "\n",
    "# Use autograd to compute the second-order gradient d^2y/dx^2\n",
    "grad_xx = torch.autograd.grad(grad_x, x)\n",
    "print(grad_xx, 2*w.item())\n",
    "\n"
   ]
  },
  {
   "cell_type": "markdown",
   "id": "cd1b6edd",
   "metadata": {},
   "source": [
    "# Autograd Example 3\n",
    "## - grad of loss fn: A logistic regression example\n",
    "## - (https://pytorch.org/docs/stable/nn.html#loss-functions)"
   ]
  },
  {
   "cell_type": "code",
   "execution_count": 6,
   "id": "c76f47a8",
   "metadata": {},
   "outputs": [
    {
     "name": "stdout",
     "output_type": "stream",
     "text": [
      "tensor([[ 0.0013],\n",
      "        [-0.0149],\n",
      "        [ 0.1073],\n",
      "        [-0.0782],\n",
      "        [ 0.1910]], device='cuda:0')\n"
     ]
    }
   ],
   "source": [
    "N = 100  # num of samples\n",
    "d = 5    # design dimensions\n",
    "X = torch.randn(N, d).to(device)   # data to device                     \n",
    "y = torch.empty(N, dtype=torch.long).random_(2).to(device)\n",
    "\n",
    "w = torch.empty(d, 1, requires_grad=True, device=device)\n",
    "w = torch.nn.init.normal_(w)  # initialize the weights\n",
    "\n",
    "yhat = 1/(1+torch.exp(-torch.matmul(X, w)))\n",
    "yhat = yhat.squeeze() # convert to (N,) row vector\n",
    "\n",
    "loss = -torch.mean(y*torch.log(yhat) + (1 - y)* torch.log(1-yhat))\n",
    "loss.backward()\n",
    "print(w.grad)\n",
    "\n"
   ]
  },
  {
   "cell_type": "markdown",
   "id": "9fdd1261",
   "metadata": {},
   "source": [
    "# Dataset and Dataloader\n",
    "## - built-in datasets (https://pytorch.org/vision/stable/datasets.html)"
   ]
  },
  {
   "cell_type": "code",
   "execution_count": 8,
   "id": "6d769a94",
   "metadata": {},
   "outputs": [
    {
     "ename": "NameError",
     "evalue": "name 'torchvision' is not defined",
     "output_type": "error",
     "traceback": [
      "\u001b[0;31m---------------------------------------------------------------------------\u001b[0m",
      "\u001b[0;31mNameError\u001b[0m                                 Traceback (most recent call last)",
      "\u001b[0;32m/tmp/ipykernel_638/3351839874.py\u001b[0m in \u001b[0;36m<module>\u001b[0;34m\u001b[0m\n\u001b[0;32m----> 1\u001b[0;31m train_dataset = torchvision.datasets.MNIST(root='data/cache/',\n\u001b[0m\u001b[1;32m      2\u001b[0m                                            \u001b[0mtrain\u001b[0m\u001b[0;34m=\u001b[0m\u001b[0;32mTrue\u001b[0m\u001b[0;34m,\u001b[0m\u001b[0;34m\u001b[0m\u001b[0;34m\u001b[0m\u001b[0m\n\u001b[1;32m      3\u001b[0m                                            \u001b[0mtransform\u001b[0m\u001b[0;34m=\u001b[0m\u001b[0mtransforms\u001b[0m\u001b[0;34m.\u001b[0m\u001b[0mToTensor\u001b[0m\u001b[0;34m(\u001b[0m\u001b[0;34m)\u001b[0m\u001b[0;34m,\u001b[0m\u001b[0;34m\u001b[0m\u001b[0;34m\u001b[0m\u001b[0m\n\u001b[1;32m      4\u001b[0m                                            download=True)\n",
      "\u001b[0;31mNameError\u001b[0m: name 'torchvision' is not defined"
     ]
    }
   ],
   "source": [
    "train_dataset = torchvision.datasets.MNIST(root='data/cache/',\n",
    "                                           train=True, \n",
    "                                           transform=transforms.ToTensor(),\n",
    "                                           download=True)"
   ]
  },
  {
   "cell_type": "code",
   "execution_count": null,
   "id": "a77eab43",
   "metadata": {},
   "outputs": [],
   "source": []
  }
 ],
 "metadata": {
  "kernelspec": {
   "display_name": "Python 3 (ipykernel)",
   "language": "python",
   "name": "python3"
  },
  "language_info": {
   "codemirror_mode": {
    "name": "ipython",
    "version": 3
   },
   "file_extension": ".py",
   "mimetype": "text/x-python",
   "name": "python",
   "nbconvert_exporter": "python",
   "pygments_lexer": "ipython3",
   "version": "3.7.11"
  }
 },
 "nbformat": 4,
 "nbformat_minor": 5
}
