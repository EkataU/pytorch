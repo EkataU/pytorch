{
 "cells": [
  {
   "cell_type": "code",
   "execution_count": 1,
   "id": "5ff15ebe",
   "metadata": {},
   "outputs": [],
   "source": [
    "import torch\n",
    "import numpy as np\n",
    "import os\n",
    "\n",
    "\n",
    "os.environ[\"CUDA_VISIBLE_DEVICES\"]=\"0,1\""
   ]
  },
  {
   "cell_type": "markdown",
   "id": "cd798849",
   "metadata": {},
   "source": [
    "# Check System Devices"
   ]
  },
  {
   "cell_type": "code",
   "execution_count": 2,
   "id": "cbd8a0f9",
   "metadata": {},
   "outputs": [
    {
     "name": "stdout",
     "output_type": "stream",
     "text": [
      "Using device: cuda\n",
      "NVIDIA GeForce GTX 1070\n",
      "NVIDIA GeForce GTX 1070\n"
     ]
    }
   ],
   "source": [
    "device = torch.device('cuda' if torch.cuda.is_available() else 'cpu')\n",
    "print('Using device:', device)\n",
    "\n",
    "if torch.cuda.is_available():\n",
    "    device_count = torch.cuda.device_count()\n",
    "    for d in range(device_count):\n",
    "        device_name = torch.cuda.get_device_name(d)\n",
    "        print(device_name)\n",
    "    #\n",
    "#\n",
    "\n",
    "device = torch.device('cuda:0')"
   ]
  },
  {
   "cell_type": "markdown",
   "id": "26b4196e",
   "metadata": {},
   "source": [
    "# Autograd Example 1 \n",
    "## - tensor.backward()"
   ]
  },
  {
   "cell_type": "code",
   "execution_count": 3,
   "id": "0bf95871",
   "metadata": {},
   "outputs": [
    {
     "name": "stdout",
     "output_type": "stream",
     "text": [
      "True True True\n",
      "tensor(12., device='cuda:0') 12.0\n",
      "tensor(9., device='cuda:0') 9.0\n",
      "tensor(0.5000, device='cuda:0') 0.5\n"
     ]
    }
   ],
   "source": [
    "#Create tensors\n",
    "x = torch.tensor(3., requires_grad=True, device=device)\n",
    "w = torch.tensor(2., requires_grad=True, device=device)\n",
    "b = torch.tensor(1., requires_grad=True, device=device)\n",
    "\n",
    "print(x.is_leaf, w.is_leaf, b.is_leaf)\n",
    "\n",
    "# x = torch.tensor(1., requires_grad=True).to(device)\n",
    "# w = torch.tensor(2., requires_grad=True).to(device)\n",
    "# b = torch.tensor(3., requires_grad=True).to(device)\n",
    "\n",
    "# print(x.is_leaf, w.is_leaf, b.is_leaf)\n",
    "\n",
    "# Build a computational graph\n",
    "y = w*x**2 + torch.sqrt(b)         # y = w*x^2 + sqrt(b)\n",
    "\n",
    "# Compute gradients\n",
    "y.backward()\n",
    "\n",
    "# Print out the gradients\n",
    "print(x.grad, (2*w*x).item())                            # dy/dx = 2*w*x\n",
    "print(w.grad, (x**2).item())                             # dy/dw = x^2\n",
    "print(b.grad, (0.5/torch.sqrt(b)).data.cpu().numpy())    # dy/db = (1/2)*(1/sqrt(b))\n"
   ]
  },
  {
   "cell_type": "markdown",
   "id": "0db0b257",
   "metadata": {},
   "source": [
    "# Autograd Example 2: \n",
    "## - torch.autograd.grad() and high-order gradients"
   ]
  },
  {
   "cell_type": "code",
   "execution_count": 4,
   "id": "f6c6c773",
   "metadata": {},
   "outputs": [
    {
     "name": "stdout",
     "output_type": "stream",
     "text": [
      "(tensor(12., device='cuda:0', grad_fn=<MulBackward0>),) 12.0\n",
      "(tensor(4., device='cuda:0'),) 4.0\n"
     ]
    }
   ],
   "source": [
    "#Create tensors\n",
    "x = torch.tensor(3., requires_grad=True, device=device)\n",
    "w = torch.tensor(2., requires_grad=True, device=device)\n",
    "b = torch.tensor(1., requires_grad=True, device=device)\n",
    "\n",
    "# Build a computational graph\n",
    "y = w*x**2 + torch.sqrt(b)         # y = w*x^2 + b\n",
    "\n",
    "# Use autograd to compute the first-order gradient dy/dx\n",
    "grad_x = torch.autograd.grad(y, x, create_graph=True)    # create_graph\n",
    "print(grad_x, (2*w*x).item())\n",
    "\n",
    "# Use autograd to compute the second-order gradient d^2y/dx^2\n",
    "grad_xx = torch.autograd.grad(grad_x, x)\n",
    "print(grad_xx, 2*w.item())\n",
    "\n"
   ]
  },
  {
   "cell_type": "markdown",
   "id": "4a320cef",
   "metadata": {},
   "source": [
    "# Autograd Example 3\n",
    "## - grad of loss fn: A logistic regression example\n",
    "## - (https://pytorch.org/docs/stable/nn.html#loss-functions)"
   ]
  },
  {
   "cell_type": "code",
   "execution_count": 5,
   "id": "d8573aca",
   "metadata": {},
   "outputs": [
    {
     "name": "stdout",
     "output_type": "stream",
     "text": [
      "tensor([[-0.1480],\n",
      "        [ 0.0585],\n",
      "        [-0.1228],\n",
      "        [ 0.0085],\n",
      "        [-0.0347]], device='cuda:0')\n"
     ]
    }
   ],
   "source": [
    "N = 100  # num of samples\n",
    "d = 5    # design dimensions\n",
    "X = torch.randn(N, d).to(device)   # data to device                     \n",
    "y = torch.empty(N, dtype=torch.long).random_(2).to(device)\n",
    "\n",
    "w = torch.empty(d, 1, requires_grad=True, device=device)\n",
    "w = torch.nn.init.normal_(w)  # initialize the weights\n",
    "\n",
    "yhat = 1/(1+torch.exp(-torch.matmul(X, w)))\n",
    "yhat = yhat.squeeze() # convert to (N,) row vector\n",
    "\n",
    "loss = -torch.mean(y*torch.log(yhat) + (1 - y)* torch.log(1-yhat))\n",
    "loss.backward()\n",
    "print(w.grad)\n",
    "\n"
   ]
  },
  {
   "cell_type": "markdown",
   "id": "b69c871a",
   "metadata": {},
   "source": [
    "# Input pipline: Dataset and Dataloader\n",
    "## - built-in datasets (https://pytorch.org/vision/stable/datasets.html)"
   ]
  },
  {
   "cell_type": "code",
   "execution_count": 38,
   "id": "a892a00c",
   "metadata": {},
   "outputs": [
    {
     "name": "stdout",
     "output_type": "stream",
     "text": [
      "torch.Size([6, 1, 28, 28])\n",
      "tensor([2, 0, 4, 8, 6, 9])\n"
     ]
    },
    {
     "data": {
      "image/png": "[encoded data removed]",
      "text/plain": [
       "<Figure size 800x400 with 6 Axes>"
      ]
     },
     "metadata": {},
     "output_type": "display_data"
    }
   ],
   "source": [
    "import torchvision\n",
    "from torch.utils.data import Dataset, DataLoader\n",
    "\n",
    "from torchvision.utils import make_grid\n",
    "import matplotlib.pyplot as plt\n",
    "\n",
    "train_dataset = torchvision.datasets.MNIST('data/cache', train=True, download=True,\n",
    "                     transform=torchvision.transforms.Compose([\n",
    "                       torchvision.transforms.ToTensor(),\n",
    "                       torchvision.transforms.Normalize(\n",
    "                         (0.1307,), (0.3081,))\n",
    "                     ]))\n",
    "\n",
    "batch_size = 6\n",
    "train_loader = DataLoader(train_dataset, batch_size=batch_size, shuffle=True)\n",
    "\n",
    "images, labels = next(iter(train_loader))\n",
    "\n",
    "print(images.shape)\n",
    "print(labels)\n",
    "\n",
    "fig = plt.figure(figsize=(8,4), dpi= 100, facecolor='w', edgecolor='k')\n",
    "for i in range(batch_size):\n",
    "    plt.subplot(2,3,i+1)\n",
    "    plt.tight_layout()\n",
    "    plt.imshow(images[i][0], cmap='gray', interpolation='none')\n",
    "    plt.title(\"Ground Truth: {}\".format(labels[i]))\n",
    "    plt.xticks([])\n",
    "    plt.yticks([])\n"
   ]
  },
  {
   "cell_type": "code",
   "execution_count": null,
   "id": "1a7a0942",
   "metadata": {},
   "outputs": [],
   "source": []
  },
  {
   "cell_type": "code",
   "execution_count": null,
   "id": "ba04553e",
   "metadata": {},
   "outputs": [],
   "source": []
  }
 ],
 "metadata": {
  "kernelspec": {
   "display_name": "Python 3 (ipykernel)",
   "language": "python",
   "name": "python3"
  },
  "language_info": {
   "codemirror_mode": {
    "name": "ipython",
    "version": 3
   },
   "file_extension": ".py",
   "mimetype": "text/x-python",
   "name": "python",
   "nbconvert_exporter": "python",
   "pygments_lexer": "ipython3",
   "version": "3.7.11"
  }
 },
 "nbformat": 4,
 "nbformat_minor": 5
}
